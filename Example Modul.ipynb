{
 "cells": [
  {
   "attachments": {},
   "cell_type": "markdown",
   "metadata": {},
   "source": [
    "# OPERATOR"
   ]
  },
  {
   "attachments": {},
   "cell_type": "markdown",
   "metadata": {},
   "source": [
    "Berikut ini adalah source code Example yang ada di Modul. Praktikan bisa memahami langsung bagaimana cara setiap operator berjalan dan arti untuk setiap operasinya.\n",
    "\n",
    "Note: Jika terjadi error \"not defined\" pastikan cell yang memuat variabel sudah di running terlebih dahulu."
   ]
  },
  {
   "attachments": {},
   "cell_type": "markdown",
   "metadata": {},
   "source": [
    "### Operator Aritmatika\n",
    "\n"
   ]
  },
  {
   "attachments": {},
   "cell_type": "markdown",
   "metadata": {},
   "source": [
    "Operator aritmatika digunakan pada tipe data numerik, untuk melakukan \n",
    "operasi matematika sederhana"
   ]
  },
  {
   "attachments": {},
   "cell_type": "markdown",
   "metadata": {},
   "source": [
    "#### Contoh Operasi"
   ]
  },
  {
   "cell_type": "code",
   "execution_count": null,
   "metadata": {},
   "outputs": [],
   "source": [
    "a = 10\n",
    "b = 3\n",
    "\n",
    "# Operasi Penjumlahan (+)\n",
    "hasil = a + b\n",
    "print(a,'+',b,'=',hasil)"
   ]
  },
  {
   "cell_type": "code",
   "execution_count": null,
   "metadata": {},
   "outputs": [],
   "source": [
    "# Operasi Pengurangan (-)\n",
    "hasil = a - b\n",
    "print(a,'-',b,'=',hasil)"
   ]
  },
  {
   "cell_type": "code",
   "execution_count": null,
   "metadata": {},
   "outputs": [],
   "source": [
    "# Operasi Perkalian (*)\n",
    "hasil = a * b\n",
    "print(a,'*',b,'=',hasil)"
   ]
  },
  {
   "cell_type": "code",
   "execution_count": null,
   "metadata": {},
   "outputs": [],
   "source": [
    "# Operasi Pembagian (/)\n",
    "hasil = a / b\n",
    "print(a,'/',b,'=',hasil)"
   ]
  },
  {
   "cell_type": "code",
   "execution_count": null,
   "metadata": {},
   "outputs": [],
   "source": [
    "# Operasi Eksponen atau Pangkat (**)\n",
    "hasil = a ** b\n",
    "print(a,'**',b,'=',hasil)"
   ]
  },
  {
   "cell_type": "code",
   "execution_count": null,
   "metadata": {},
   "outputs": [],
   "source": [
    "# Operasi Modulus (%)\n",
    "hasil = a % b\n",
    "print(a,'%',b,'=',hasil)"
   ]
  },
  {
   "cell_type": "code",
   "execution_count": null,
   "metadata": {},
   "outputs": [],
   "source": [
    "# Operasi Floor Division (//)\n",
    "hasil = a // b\n",
    "print(a,'//',b,'=',hasil)"
   ]
  },
  {
   "attachments": {},
   "cell_type": "markdown",
   "metadata": {},
   "source": [
    "#### Contoh Prioritas dari Operator"
   ]
  },
  {
   "attachments": {},
   "cell_type": "markdown",
   "metadata": {},
   "source": [
    "Berikut urutan prioritas dari operasi aritmatika.\n",
    "1.\t Kurung ()\n",
    "2.\t Exponen atau pangkat **\n",
    "3.\t Perkalian, pembagian, modulus, floor division * / ** % //\n",
    "4.\t Penjumlahan dan pengurangan + -"
   ]
  },
  {
   "cell_type": "code",
   "execution_count": null,
   "metadata": {},
   "outputs": [],
   "source": [
    "x = 3\n",
    "y = 2\n",
    "z = 4\n",
    "\n",
    "hasil = x ** y * (z + x) / y - y % z // x\n",
    "print(x,'**',y,'*',z,'+',x,'/',y,'-',y,'%',z,'//',x,'=',hasil)"
   ]
  },
  {
   "cell_type": "code",
   "execution_count": null,
   "metadata": {},
   "outputs": [],
   "source": [
    "hasil = x + y * z\n",
    "print(x,'+',y,'*',z,'=',hasil)\n",
    "\n",
    "# Contoh kurung akan menjadi prioritas\n",
    "hasil = (x + y) * z \n",
    "print('(',x,'+',y,') *',z,'=',hasil)"
   ]
  },
  {
   "attachments": {},
   "cell_type": "markdown",
   "metadata": {},
   "source": [
    "### Operator Perbandingan atau Relasi"
   ]
  },
  {
   "attachments": {},
   "cell_type": "markdown",
   "metadata": {},
   "source": [
    "Operator perbandingan atau relasi dapat digunakan untuk membandingkan dua buah nilai"
   ]
  },
  {
   "attachments": {},
   "cell_type": "markdown",
   "metadata": {},
   "source": [
    "#### Contoh"
   ]
  },
  {
   "cell_type": "code",
   "execution_count": null,
   "metadata": {},
   "outputs": [],
   "source": [
    "a = 4\n",
    "b = 2\n",
    "\n",
    "# lebih besar dari (>)\n",
    "hasil = a > 3\n",
    "print(a,'>',3,'=',hasil)\n",
    "\n",
    "hasil = b > 3\n",
    "print(b,'>',3,'=',hasil)\n",
    "\n",
    "hasil = b > 2\n",
    "print(b,'>',2,'=',hasil)"
   ]
  },
  {
   "cell_type": "code",
   "execution_count": null,
   "metadata": {},
   "outputs": [],
   "source": [
    "# Kurang dari (<)\n",
    "hasil = a < 3\n",
    "print(a,'<',3,'=',hasil)\n",
    "\n",
    "hasil = b < 3\n",
    "print(b,'<',3,'=',hasil)\n",
    "\n",
    "hasil = b < 2\n",
    "print(b,'<',2,'=',hasil)"
   ]
  },
  {
   "cell_type": "code",
   "execution_count": null,
   "metadata": {},
   "outputs": [],
   "source": [
    "# Lebih dari sama dengan (>=)\n",
    "hasil = a >= 3\n",
    "print(a,'>=',3,'=',hasil)\n",
    "\n",
    "hasil = b >= 3\n",
    "print(b,'>=',3,'=',hasil)\n",
    "\n",
    "hasil = b >= 2\n",
    "print(b,'>=',2,'=',hasil)"
   ]
  },
  {
   "cell_type": "code",
   "execution_count": null,
   "metadata": {},
   "outputs": [],
   "source": [
    "# Kurang dari sama dengan (<=)\n",
    "hasil = a <= 3\n",
    "print(a,'<=',3,'=',hasil)\n",
    "\n",
    "hasil = b <= 3\n",
    "print(b,'<=',3,'=',hasil)\n",
    "\n",
    "hasil = b <= 2\n",
    "print(b,'<=',2,'=',hasil)"
   ]
  },
  {
   "cell_type": "code",
   "execution_count": null,
   "metadata": {},
   "outputs": [],
   "source": [
    "# Sama dengan (==)\n",
    "hasil = a == 4\n",
    "print(a,'==',4,'=',hasil)\n",
    "\n",
    "hasil = b == 4\n",
    "print(b,'==',4,'=',hasil)"
   ]
  },
  {
   "cell_type": "code",
   "execution_count": null,
   "metadata": {},
   "outputs": [],
   "source": [
    "# Tidak sama dengan (!=)\n",
    "hasil = a != 4\n",
    "print(a,'!=',4,'=',hasil)\n",
    "\n",
    "hasil = b != 4\n",
    "print(b,'!=',4,'=',hasil)"
   ]
  },
  {
   "attachments": {},
   "cell_type": "markdown",
   "metadata": {},
   "source": [
    "\n",
    "### Operasi Penugasan (Assignment)"
   ]
  },
  {
   "attachments": {},
   "cell_type": "markdown",
   "metadata": {},
   "source": [
    "Operator Penugasan adalah operator yang digunakan untuk mengisi nilai pada variable, menambah, mengurang, membagi atau mengali nilai suatu variable."
   ]
  },
  {
   "attachments": {},
   "cell_type": "markdown",
   "metadata": {},
   "source": [
    "##### Contoh"
   ]
  },
  {
   "cell_type": "code",
   "execution_count": null,
   "metadata": {},
   "outputs": [],
   "source": [
    "a = 5 # adalah assignment\n",
    "print(\"nilai a =\",a)\n",
    "\n",
    "a += 1 # artinya adalah a = a + 1\n",
    "print(\"nilai a += 1, nilai a menjadi\",a)\n",
    "\n",
    "a -= 2 # artinya adalah a = a - 2\n",
    "print(\"nilai a -= 2, nilai a menjadi\",a)\n",
    "\n",
    "a *= 5 # artinya adalah a = a * 5\n",
    "print(\"nilai a *= 5, nilai a menjadi\",a)\n",
    "\n",
    "a /= 2 # artinya adalah a = a / 2\n",
    "print(\"nilai a /= 2, nilai a menjadi\",a)\n",
    "\n",
    "# pangkat atau eksponen\n",
    "a **= 3\n",
    "print(\"nilai a **= 3, nilai a menjadi\",a)"
   ]
  },
  {
   "cell_type": "code",
   "execution_count": null,
   "metadata": {},
   "outputs": [],
   "source": [
    "b = 10\n",
    "print(\"\\nnilai b =\",b)\n",
    "\n",
    "# modulus dan floor division\n",
    "b %= 3\n",
    "print(\"nilai b %= 3, nilai b menjadi\",b)\n",
    "\n",
    "b = 10\n",
    "print(\"\\nnilai b =\",b)\n",
    "\n",
    "b //= 3\n",
    "print(\"nilai b //= 3, nilai b menjadi\",b)"
   ]
  },
  {
   "attachments": {},
   "cell_type": "markdown",
   "metadata": {},
   "source": [
    "### Operasi Logika atau Boolean"
   ]
  },
  {
   "attachments": {},
   "cell_type": "markdown",
   "metadata": {},
   "source": [
    "Operator logical digunakan untuk menggabungkan beberapa nilai kebenaran atas \n",
    "suatu statemen logika"
   ]
  },
  {
   "attachments": {},
   "cell_type": "markdown",
   "metadata": {},
   "source": [
    "##### Contoh"
   ]
  },
  {
   "cell_type": "code",
   "execution_count": null,
   "metadata": {},
   "outputs": [],
   "source": [
    "# NOT\n",
    "a = False\n",
    "c = not a\n",
    "print('data a =',a)\n",
    "print('data c =',c)"
   ]
  },
  {
   "cell_type": "code",
   "execution_count": null,
   "metadata": {},
   "outputs": [],
   "source": [
    "# OR (jika salah satu true, maka hasilnya adalah true)\n",
    "a = False\n",
    "b = False\n",
    "c = a or b\n",
    "print(a,'OR',b,'=',c)\n",
    "a = False\n",
    "b = True\n",
    "c = a or b\n",
    "print(a,'OR',b,' =',c)\n",
    "a = True\n",
    "b = False\n",
    "c = a or b\n",
    "print(a,' OR',b,'=',c)\n",
    "a = True\n",
    "b = True\n",
    "c = a or b\n",
    "print(a,' OR',b,' =',c)"
   ]
  },
  {
   "cell_type": "code",
   "execution_count": null,
   "metadata": {},
   "outputs": [],
   "source": [
    "# AND (jika dua buah nilai true, maka hasil true)\n",
    "a = False\n",
    "b = False\n",
    "c = a and b\n",
    "print(a,'AND',b,'=',c)\n",
    "a = False\n",
    "b = True\n",
    "c = a and b\n",
    "print(a,'AND',b,' =',c)\n",
    "a = True\n",
    "b = False\n",
    "c = a and b\n",
    "print(a,' AND',b,'=',c)\n",
    "a = True\n",
    "b = True\n",
    "c = a and b\n",
    "print(a,' AND',b,' =',c)"
   ]
  },
  {
   "cell_type": "code",
   "execution_count": null,
   "metadata": {},
   "outputs": [],
   "source": [
    "# XOR (akan true jika salah satu true, sisanya false)\n",
    "a = False\n",
    "b = False\n",
    "c = a ^ b\n",
    "print(a,'XOR',b,'=',c)\n",
    "a = False\n",
    "b = True\n",
    "c = a ^ b\n",
    "print(a,'XOR',b,' =',c)\n",
    "a = True\n",
    "b = False\n",
    "c = a ^ b\n",
    "print(a,' XOR',b,'=',c)\n",
    "a = True\n",
    "b = True\n",
    "c = a ^ b\n",
    "print(a,' XOR',b,' =',c)"
   ]
  },
  {
   "attachments": {},
   "cell_type": "markdown",
   "metadata": {},
   "source": [
    "### Operator Bitwise"
   ]
  },
  {
   "attachments": {},
   "cell_type": "markdown",
   "metadata": {},
   "source": [
    "Operator bitwise adalah operator yang berhubungan dengan angka-angka biner."
   ]
  },
  {
   "attachments": {},
   "cell_type": "markdown",
   "metadata": {},
   "source": [
    "##### Contoh"
   ]
  },
  {
   "cell_type": "code",
   "execution_count": null,
   "metadata": {},
   "outputs": [],
   "source": [
    "a = 9\n",
    "b = 5\n",
    "\n",
    "# bitwise OR (|)\n",
    "c = a | b\n",
    "print('nilai :',a,' , binary :',format(a,'08b'))\n",
    "print('nilai :',b,' , binary :',format(b,'08b'))\n",
    "print('----------------------------- (|)')\n",
    "print('nilai :',c,' , binary :',format(c,'08b'))"
   ]
  },
  {
   "cell_type": "code",
   "execution_count": null,
   "metadata": {},
   "outputs": [],
   "source": [
    "# bitwise AND (&)\n",
    "c = a & b\n",
    "print('nilai :',a,' , binary :',format(a,'08b'))\n",
    "print('nilai :',b,' , binary :',format(b,'08b'))\n",
    "print('----------------------------- (&)')\n",
    "print('nilai :',c,' , binary :',format(c,'08b'))"
   ]
  },
  {
   "cell_type": "code",
   "execution_count": null,
   "metadata": {},
   "outputs": [],
   "source": [
    "# bitwise XOR (^)\n",
    "c = a ^ b\n",
    "print('nilai :',a,' , binary :',format(a,'08b'))\n",
    "print('nilai :',b,' , binary :',format(b,'08b'))\n",
    "print('----------------------------- (^)')\n",
    "print('nilai :',c,' , binary :',format(c,'08b'))"
   ]
  },
  {
   "cell_type": "code",
   "execution_count": null,
   "metadata": {},
   "outputs": [],
   "source": [
    "# bitwise NOT (~)\n",
    "c = ~a\n",
    "print('nilai :',a,' , binary :',format(a,'08b'))\n",
    "print('----------------------------- (~)')\n",
    "print('nilai :',c,' , binary :',format(c,'08b'))\n",
    "print('----------------------------- (^)')\n",
    "d = 0b0000001001\n",
    "e = 0b1111111111\n",
    "print('nilai :',e^d,' , binary :',format(e^d,'08b'))"
   ]
  },
  {
   "cell_type": "code",
   "execution_count": null,
   "metadata": {},
   "outputs": [],
   "source": [
    "# shift right (>>)\n",
    "c = a >> 2\n",
    "print('nilai :',a,' , binary :',format(a,'08b'))\n",
    "print('----------------------------- (>>)')\n",
    "print('nilai :',c,' , binary :',format(c,'08b'))"
   ]
  },
  {
   "cell_type": "code",
   "execution_count": null,
   "metadata": {},
   "outputs": [],
   "source": [
    "# shift left (<<)\n",
    "c = a << 2\n",
    "print('nilai :',a,' , binary :',format(a,'08b'))\n",
    "print('----------------------------- (<<)')\n",
    "print('nilai :',c,' , binary :',format(c,'08b'))"
   ]
  },
  {
   "attachments": {},
   "cell_type": "markdown",
   "metadata": {},
   "source": [
    "### Operator Keanggotaan"
   ]
  },
  {
   "attachments": {},
   "cell_type": "markdown",
   "metadata": {},
   "source": [
    "Operator untuk memeriksa apakah anggota dari sequence atau tidak"
   ]
  },
  {
   "attachments": {},
   "cell_type": "markdown",
   "metadata": {},
   "source": [
    "##### Contoh\n"
   ]
  },
  {
   "cell_type": "code",
   "execution_count": 12,
   "metadata": {},
   "outputs": [
    {
     "name": "stdout",
     "output_type": "stream",
     "text": [
      "Huruf 'c' ada di variabel perusahaan? True\n"
     ]
    }
   ],
   "source": [
    "perusahaan = 'McKinsey'\n",
    "empat_besar = ['Arsenal', 'City', 'MU', 'Tottenham']\n",
    "mahasiswa = {\n",
    "  'nama': 'POSI',\n",
    "  'tahun': '2020'\n",
    "}\n",
    "\n",
    "print(\n",
    "  \"Huruf 'c' ada di variabel perusahaan?\",\n",
    "  'c' in perusahaan\n",
    ")"
   ]
  },
  {
   "cell_type": "code",
   "execution_count": 19,
   "metadata": {},
   "outputs": [
    {
     "name": "stdout",
     "output_type": "stream",
     "text": [
      "Huruf 'z' tidak ada di variabel perusahaan? True\n"
     ]
    }
   ],
   "source": [
    "print(\n",
    "  \"Huruf 'z' tidak ada di variabel perusahaan?\",\n",
    "  'z' not in perusahaan\n",
    ")"
   ]
  },
  {
   "cell_type": "code",
   "execution_count": 18,
   "metadata": {},
   "outputs": [
    {
     "name": "stdout",
     "output_type": "stream",
     "text": [
      "Liverpool ada di empat besar klasemen? False lah. Yakali ada\n"
     ]
    }
   ],
   "source": [
    "print(\n",
    "  \"Liverpool ada di empat besar klasemen?\",\n",
    "  'Liverpool' in empat_besar, \"lah. Yakali ada\"\n",
    ")"
   ]
  },
  {
   "cell_type": "code",
   "execution_count": 15,
   "metadata": {},
   "outputs": [
    {
     "name": "stdout",
     "output_type": "stream",
     "text": [
      "Atribut 'nama' ada di dictionary mahasiswa? True\n"
     ]
    }
   ],
   "source": [
    "print(\n",
    "  \"Atribut 'nama' ada di dictionary mahasiswa?\",\n",
    "  'nama' in mahasiswa\n",
    ")"
   ]
  },
  {
   "attachments": {},
   "cell_type": "markdown",
   "metadata": {},
   "source": [
    "### Operator Identitas"
   ]
  },
  {
   "attachments": {},
   "cell_type": "markdown",
   "metadata": {},
   "source": [
    "Operator identitas dapat mengetahui apakah dua buah variabel memiliki nilai yang sama dan posisi yang sama di dalam memori."
   ]
  },
  {
   "attachments": {},
   "cell_type": "markdown",
   "metadata": {},
   "source": [
    "##### Contoh"
   ]
  },
  {
   "cell_type": "code",
   "execution_count": null,
   "metadata": {},
   "outputs": [],
   "source": [
    "# 'is'\n",
    "x = 5 \n",
    "y = 5\n",
    "print('nilai x =',x,', id =',hex(id(x)))\n",
    "print('nilai y =',y,', id =',hex(id(y)))\n",
    "hasil = x is y\n",
    "print('x is y =',hasil)"
   ]
  },
  {
   "cell_type": "code",
   "execution_count": null,
   "metadata": {},
   "outputs": [],
   "source": [
    "x = 5 \n",
    "y = 6\n",
    "print('nilai x =',x,', id =',hex(id(x)))\n",
    "print('nilai y =',y,', id =',hex(id(y)))\n",
    "hasil = x is y\n",
    "print('x is y =',hasil)"
   ]
  },
  {
   "cell_type": "code",
   "execution_count": null,
   "metadata": {},
   "outputs": [],
   "source": [
    "# is not\n",
    "x = 5 \n",
    "y = 5\n",
    "print('nilai x =',x,', id =',hex(id(x)))\n",
    "print('nilai y =',y,', id =',hex(id(y)))\n",
    "hasil = x is not y\n",
    "print('x is not y =',hasil)"
   ]
  },
  {
   "cell_type": "code",
   "execution_count": null,
   "metadata": {},
   "outputs": [],
   "source": [
    "x = 5\n",
    "y = 6\n",
    "print('nilai x =',x,',id = ',hex(id(x)))\n",
    "print('nilai y =',y,',id = ',hex(id(y)))\n",
    "hasil = x is not y\n",
    "print('x is not y =',hasil)"
   ]
  }
 ],
 "metadata": {
  "kernelspec": {
   "display_name": "Python 3",
   "language": "python",
   "name": "python3"
  },
  "language_info": {
   "codemirror_mode": {
    "name": "ipython",
    "version": 3
   },
   "file_extension": ".py",
   "mimetype": "text/x-python",
   "name": "python",
   "nbconvert_exporter": "python",
   "pygments_lexer": "ipython3",
   "version": "3.9.1"
  },
  "orig_nbformat": 4
 },
 "nbformat": 4,
 "nbformat_minor": 2
}
